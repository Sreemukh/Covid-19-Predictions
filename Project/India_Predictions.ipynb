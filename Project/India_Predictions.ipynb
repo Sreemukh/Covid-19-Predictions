{
 "cells": [
  {
   "cell_type": "markdown",
   "metadata": {},
   "source": [
    "# Predicting Covid-19 Cases, fatalities for India "
   ]
  },
  {
   "cell_type": "code",
   "execution_count": 1,
   "metadata": {},
   "outputs": [],
   "source": [
    "# Import useful libraries and functions\n",
    "import pandas as pd\n",
    "import numpy as np\n",
    "# Converting Dates into usable form like ordinal.\n",
    "from datetime import datetime as dt\n",
    "# Plotting Libraries\n",
    "import matplotlib.pyplot as plt\n",
    "import seaborn as sns\n",
    "# For Regression, Pre-processing\n",
    "from sklearn.linear_model import LinearRegression\n",
    "from sklearn.model_selection import train_test_split\n",
    "from sklearn.preprocessing import StandardScaler, PolynomialFeatures\n",
    "from sklearn.metrics import r2_score"
   ]
  },
  {
   "cell_type": "code",
   "execution_count": 2,
   "metadata": {},
   "outputs": [
    {
     "data": {
      "text/html": [
       "<div>\n",
       "<style scoped>\n",
       "    .dataframe tbody tr th:only-of-type {\n",
       "        vertical-align: middle;\n",
       "    }\n",
       "\n",
       "    .dataframe tbody tr th {\n",
       "        vertical-align: top;\n",
       "    }\n",
       "\n",
       "    .dataframe thead th {\n",
       "        text-align: right;\n",
       "    }\n",
       "</style>\n",
       "<table border=\"1\" class=\"dataframe\">\n",
       "  <thead>\n",
       "    <tr style=\"text-align: right;\">\n",
       "      <th></th>\n",
       "      <th>Date</th>\n",
       "      <th>Country</th>\n",
       "      <th>Confirmed</th>\n",
       "      <th>Recovered</th>\n",
       "      <th>Deaths</th>\n",
       "    </tr>\n",
       "  </thead>\n",
       "  <tbody>\n",
       "    <tr>\n",
       "      <td>0</td>\n",
       "      <td>2020-01-22</td>\n",
       "      <td>Afghanistan</td>\n",
       "      <td>0</td>\n",
       "      <td>0</td>\n",
       "      <td>0</td>\n",
       "    </tr>\n",
       "    <tr>\n",
       "      <td>1</td>\n",
       "      <td>2020-01-22</td>\n",
       "      <td>Albania</td>\n",
       "      <td>0</td>\n",
       "      <td>0</td>\n",
       "      <td>0</td>\n",
       "    </tr>\n",
       "    <tr>\n",
       "      <td>2</td>\n",
       "      <td>2020-01-22</td>\n",
       "      <td>Algeria</td>\n",
       "      <td>0</td>\n",
       "      <td>0</td>\n",
       "      <td>0</td>\n",
       "    </tr>\n",
       "    <tr>\n",
       "      <td>3</td>\n",
       "      <td>2020-01-22</td>\n",
       "      <td>Andorra</td>\n",
       "      <td>0</td>\n",
       "      <td>0</td>\n",
       "      <td>0</td>\n",
       "    </tr>\n",
       "    <tr>\n",
       "      <td>4</td>\n",
       "      <td>2020-01-22</td>\n",
       "      <td>Angola</td>\n",
       "      <td>0</td>\n",
       "      <td>0</td>\n",
       "      <td>0</td>\n",
       "    </tr>\n",
       "  </tbody>\n",
       "</table>\n",
       "</div>"
      ],
      "text/plain": [
       "         Date      Country  Confirmed  Recovered  Deaths\n",
       "0  2020-01-22  Afghanistan          0          0       0\n",
       "1  2020-01-22      Albania          0          0       0\n",
       "2  2020-01-22      Algeria          0          0       0\n",
       "3  2020-01-22      Andorra          0          0       0\n",
       "4  2020-01-22       Angola          0          0       0"
      ]
     },
     "execution_count": 2,
     "metadata": {},
     "output_type": "execute_result"
    }
   ],
   "source": [
    "# Read entire world statistics data into a data frame\n",
    "df = pd.read_csv('data.csv')\n",
    "df.head()"
   ]
  },
  {
   "cell_type": "code",
   "execution_count": 3,
   "metadata": {},
   "outputs": [
    {
     "name": "stderr",
     "output_type": "stream",
     "text": [
      "C:\\Users\\Admin\\Anaconda3\\lib\\site-packages\\ipykernel_launcher.py:5: SettingWithCopyWarning: \n",
      "A value is trying to be set on a copy of a slice from a DataFrame\n",
      "\n",
      "See the caveats in the documentation: http://pandas.pydata.org/pandas-docs/stable/user_guide/indexing.html#returning-a-view-versus-a-copy\n",
      "  \"\"\"\n",
      "C:\\Users\\Admin\\Anaconda3\\lib\\site-packages\\ipykernel_launcher.py:6: SettingWithCopyWarning: \n",
      "A value is trying to be set on a copy of a slice from a DataFrame\n",
      "\n",
      "See the caveats in the documentation: http://pandas.pydata.org/pandas-docs/stable/user_guide/indexing.html#returning-a-view-versus-a-copy\n",
      "  \n"
     ]
    }
   ],
   "source": [
    "# Convert all dates into ordinal format\n",
    "dates = df['Date']\n",
    "i = 0\n",
    "for a in dates:\n",
    "    dates[i] = dt.strptime(a, '%Y-%m-%d').date()\n",
    "    dates[i] = dates[i].toordinal()\n",
    "    i = i+1"
   ]
  },
  {
   "cell_type": "code",
   "execution_count": 4,
   "metadata": {},
   "outputs": [
    {
     "data": {
      "text/html": [
       "<div>\n",
       "<style scoped>\n",
       "    .dataframe tbody tr th:only-of-type {\n",
       "        vertical-align: middle;\n",
       "    }\n",
       "\n",
       "    .dataframe tbody tr th {\n",
       "        vertical-align: top;\n",
       "    }\n",
       "\n",
       "    .dataframe thead th {\n",
       "        text-align: right;\n",
       "    }\n",
       "</style>\n",
       "<table border=\"1\" class=\"dataframe\">\n",
       "  <thead>\n",
       "    <tr style=\"text-align: right;\">\n",
       "      <th></th>\n",
       "      <th>Date</th>\n",
       "      <th>Country</th>\n",
       "      <th>Confirmed</th>\n",
       "      <th>Recovered</th>\n",
       "      <th>Deaths</th>\n",
       "    </tr>\n",
       "  </thead>\n",
       "  <tbody>\n",
       "    <tr>\n",
       "      <td>0</td>\n",
       "      <td>737446</td>\n",
       "      <td>Afghanistan</td>\n",
       "      <td>0</td>\n",
       "      <td>0</td>\n",
       "      <td>0</td>\n",
       "    </tr>\n",
       "    <tr>\n",
       "      <td>1</td>\n",
       "      <td>737446</td>\n",
       "      <td>Albania</td>\n",
       "      <td>0</td>\n",
       "      <td>0</td>\n",
       "      <td>0</td>\n",
       "    </tr>\n",
       "    <tr>\n",
       "      <td>2</td>\n",
       "      <td>737446</td>\n",
       "      <td>Algeria</td>\n",
       "      <td>0</td>\n",
       "      <td>0</td>\n",
       "      <td>0</td>\n",
       "    </tr>\n",
       "    <tr>\n",
       "      <td>3</td>\n",
       "      <td>737446</td>\n",
       "      <td>Andorra</td>\n",
       "      <td>0</td>\n",
       "      <td>0</td>\n",
       "      <td>0</td>\n",
       "    </tr>\n",
       "    <tr>\n",
       "      <td>4</td>\n",
       "      <td>737446</td>\n",
       "      <td>Angola</td>\n",
       "      <td>0</td>\n",
       "      <td>0</td>\n",
       "      <td>0</td>\n",
       "    </tr>\n",
       "  </tbody>\n",
       "</table>\n",
       "</div>"
      ],
      "text/plain": [
       "     Date      Country  Confirmed  Recovered  Deaths\n",
       "0  737446  Afghanistan          0          0       0\n",
       "1  737446      Albania          0          0       0\n",
       "2  737446      Algeria          0          0       0\n",
       "3  737446      Andorra          0          0       0\n",
       "4  737446       Angola          0          0       0"
      ]
     },
     "execution_count": 4,
     "metadata": {},
     "output_type": "execute_result"
    }
   ],
   "source": [
    "df['Date'] = dates\n",
    "df.head()"
   ]
  },
  {
   "cell_type": "markdown",
   "metadata": {},
   "source": [
    "# India"
   ]
  },
  {
   "cell_type": "markdown",
   "metadata": {},
   "source": [
    "## Add all data for India into a dataframe"
   ]
  },
  {
   "cell_type": "code",
   "execution_count": 5,
   "metadata": {},
   "outputs": [
    {
     "data": {
      "text/html": [
       "<div>\n",
       "<style scoped>\n",
       "    .dataframe tbody tr th:only-of-type {\n",
       "        vertical-align: middle;\n",
       "    }\n",
       "\n",
       "    .dataframe tbody tr th {\n",
       "        vertical-align: top;\n",
       "    }\n",
       "\n",
       "    .dataframe thead th {\n",
       "        text-align: right;\n",
       "    }\n",
       "</style>\n",
       "<table border=\"1\" class=\"dataframe\">\n",
       "  <thead>\n",
       "    <tr style=\"text-align: right;\">\n",
       "      <th></th>\n",
       "      <th>Date</th>\n",
       "      <th>Country</th>\n",
       "      <th>Confirmed</th>\n",
       "      <th>Recovered</th>\n",
       "      <th>Deaths</th>\n",
       "    </tr>\n",
       "  </thead>\n",
       "  <tbody>\n",
       "    <tr>\n",
       "      <td>79</td>\n",
       "      <td>737446</td>\n",
       "      <td>India</td>\n",
       "      <td>0</td>\n",
       "      <td>0</td>\n",
       "      <td>0</td>\n",
       "    </tr>\n",
       "    <tr>\n",
       "      <td>267</td>\n",
       "      <td>737447</td>\n",
       "      <td>India</td>\n",
       "      <td>0</td>\n",
       "      <td>0</td>\n",
       "      <td>0</td>\n",
       "    </tr>\n",
       "    <tr>\n",
       "      <td>455</td>\n",
       "      <td>737448</td>\n",
       "      <td>India</td>\n",
       "      <td>0</td>\n",
       "      <td>0</td>\n",
       "      <td>0</td>\n",
       "    </tr>\n",
       "    <tr>\n",
       "      <td>643</td>\n",
       "      <td>737449</td>\n",
       "      <td>India</td>\n",
       "      <td>0</td>\n",
       "      <td>0</td>\n",
       "      <td>0</td>\n",
       "    </tr>\n",
       "    <tr>\n",
       "      <td>831</td>\n",
       "      <td>737450</td>\n",
       "      <td>India</td>\n",
       "      <td>0</td>\n",
       "      <td>0</td>\n",
       "      <td>0</td>\n",
       "    </tr>\n",
       "  </tbody>\n",
       "</table>\n",
       "</div>"
      ],
      "text/plain": [
       "       Date Country  Confirmed  Recovered  Deaths\n",
       "79   737446   India          0          0       0\n",
       "267  737447   India          0          0       0\n",
       "455  737448   India          0          0       0\n",
       "643  737449   India          0          0       0\n",
       "831  737450   India          0          0       0"
      ]
     },
     "execution_count": 5,
     "metadata": {},
     "output_type": "execute_result"
    }
   ],
   "source": [
    "ind_data = df[df['Country']=='India']\n",
    "ind_data.head()"
   ]
  },
  {
   "cell_type": "markdown",
   "metadata": {},
   "source": [
    "## Plot the cases data"
   ]
  },
  {
   "cell_type": "code",
   "execution_count": 6,
   "metadata": {},
   "outputs": [
    {
     "data": {
      "text/plain": [
       "<matplotlib.legend.Legend at 0x20ff23e1288>"
      ]
     },
     "execution_count": 6,
     "metadata": {},
     "output_type": "execute_result"
    },
    {
     "data": {
      "image/png": "[encoded data removed]",
      "text/plain": [
       "<Figure size 1440x576 with 3 Axes>"
      ]
     },
     "metadata": {
      "needs_background": "light"
     },
     "output_type": "display_data"
    }
   ],
   "source": [
    "fig = plt.figure(figsize=(20,8))\n",
    "ax1 = fig.add_subplot(1,3,1)\n",
    "ax1.plot(ind_data['Date'].values,ind_data['Confirmed'].values,color='b')\n",
    "ax1.legend(['Confirmed'])\n",
    "ax2 = fig.add_subplot(1,3,2)\n",
    "ax2.plot(ind_data['Date'].values,ind_data['Recovered'].values,color='k')\n",
    "ax2.legend(['Recovered'])\n",
    "ax3 = fig.add_subplot(1,3,3)\n",
    "ax3.plot(ind_data['Date'].values,ind_data['Deaths'].values,color='r')\n",
    "ax3.legend(['Deaths'])"
   ]
  },
  {
   "cell_type": "markdown",
   "metadata": {},
   "source": [
    "### All the three quantities seem to be increasing exponentially"
   ]
  },
  {
   "cell_type": "markdown",
   "metadata": {},
   "source": [
    "## To fit the curves we will use polynomial Regression"
   ]
  },
  {
   "cell_type": "code",
   "execution_count": 7,
   "metadata": {},
   "outputs": [],
   "source": [
    "# Copy the Date and Confirmed Values of India into another dataframe\n",
    "conf_data = ind_data[['Date','Confirmed']]"
   ]
  },
  {
   "cell_type": "code",
   "execution_count": 8,
   "metadata": {},
   "outputs": [],
   "source": [
    "x_conf = conf_data['Date'].values\n",
    "y_conf = conf_data['Confirmed'].values"
   ]
  },
  {
   "cell_type": "code",
   "execution_count": 9,
   "metadata": {},
   "outputs": [],
   "source": [
    "scale = StandardScaler()\n",
    "x_norm = scale.fit_transform(x_conf.reshape(-1,1))"
   ]
  },
  {
   "cell_type": "code",
   "execution_count": 10,
   "metadata": {},
   "outputs": [],
   "source": [
    "x_train1,x_test1,y_train1,y_test1 = train_test_split(x_norm.reshape(-1,1),y_conf,test_size=0.2)"
   ]
  },
  {
   "cell_type": "code",
   "execution_count": 11,
   "metadata": {},
   "outputs": [
    {
     "name": "stdout",
     "output_type": "stream",
     "text": [
      "0.5918944956250325\n",
      "0.9358653037463446\n",
      "0.9953055726546024\n",
      "0.9997068849075837\n",
      "0.9996833022331333\n",
      "0.9996788673981934\n"
     ]
    },
    {
     "data": {
      "text/plain": [
       "[<matplotlib.lines.Line2D at 0x20ff26a8dc8>]"
      ]
     },
     "execution_count": 11,
     "metadata": {},
     "output_type": "execute_result"
    },
    {
     "data": {
      "image/png": "[encoded data removed]",
      "text/plain": [
       "<Figure size 432x288 with 1 Axes>"
      ]
     },
     "metadata": {
      "needs_background": "light"
     },
     "output_type": "display_data"
    }
   ],
   "source": [
    "max_degree = 6\n",
    "i=1\n",
    "r_squared = []\n",
    "while i<=max_degree:\n",
    "    p = PolynomialFeatures(degree = i,include_bias=False)\n",
    "    x_train11 = p.fit_transform(x_train1)\n",
    "    x_test11 = p.fit_transform(x_test1)\n",
    "    l = LinearRegression()\n",
    "    l.fit(x_train11,y_train1.reshape(-1,1))\n",
    "    y_pred1 = l.predict(x_test11)\n",
    "    r_squared.append(r2_score(y_test1,y_pred1))\n",
    "    print(r2_score(y_test1,y_pred1))\n",
    "    #plt.plot(x_test11,y_pred1)\n",
    "    i=i+1\n",
    "plt.plot(np.arange(1,max_degree+1,1),r_squared)"
   ]
  },
  {
   "cell_type": "markdown",
   "metadata": {},
   "source": [
    "### To prevent underfitting and overfitting, the point where the graph starts to flatten is to be considered, i.e 3 degree polynomial is the best fit."
   ]
  },
  {
   "cell_type": "code",
   "execution_count": 12,
   "metadata": {},
   "outputs": [
    {
     "data": {
      "text/plain": [
       "0.9931964807711214"
      ]
     },
     "execution_count": 12,
     "metadata": {},
     "output_type": "execute_result"
    }
   ],
   "source": [
    "ind_conf_model = LinearRegression()\n",
    "p = PolynomialFeatures(degree = 3,include_bias=False)\n",
    "x_input = p.fit_transform(x_norm)\n",
    "ind_conf_model.fit(x_input,y_conf)\n",
    "ind_conf_model.score(x_input,y_conf)"
   ]
  },
  {
   "cell_type": "code",
   "execution_count": 13,
   "metadata": {},
   "outputs": [
    {
     "data": {
      "text/plain": [
       "array([ 2199.24592222, 14458.76358278,  8176.45483764])"
      ]
     },
     "execution_count": 13,
     "metadata": {},
     "output_type": "execute_result"
    }
   ],
   "source": [
    "ind_conf_model.coef_"
   ]
  },
  {
   "cell_type": "code",
   "execution_count": 14,
   "metadata": {},
   "outputs": [
    {
     "data": {
      "image/png": "[encoded data removed]",
      "text/plain": [
       "<Figure size 432x288 with 1 Axes>"
      ]
     },
     "metadata": {
      "needs_background": "light"
     },
     "output_type": "display_data"
    }
   ],
   "source": [
    "y_pred = ind_conf_model.predict(x_input)\n",
    "plt.plot(x_norm,y_conf,color='b')\n",
    "plt.plot(x_norm,y_pred,'--',color='r')\n",
    "plt.legend(['Actual values','Model Predictions'])\n",
    "plt.grid(True)"
   ]
  },
  {
   "cell_type": "markdown",
   "metadata": {},
   "source": [
    "# Recovered India"
   ]
  },
  {
   "cell_type": "code",
   "execution_count": 15,
   "metadata": {},
   "outputs": [],
   "source": [
    "rec_data = ind_data[['Date','Recovered']]"
   ]
  },
  {
   "cell_type": "code",
   "execution_count": 16,
   "metadata": {},
   "outputs": [],
   "source": [
    "x_rec = rec_data['Date'].values\n",
    "y_rec = rec_data['Recovered'].values\n",
    "scale = StandardScaler()\n",
    "x_norm = scale.fit_transform(x_rec.reshape(-1,1))\n",
    "x_train2,x_test2,y_train2,y_test2 = train_test_split(x_norm.reshape(-1,1),y_rec,test_size=0.2)"
   ]
  },
  {
   "cell_type": "code",
   "execution_count": 17,
   "metadata": {},
   "outputs": [
    {
     "name": "stdout",
     "output_type": "stream",
     "text": [
      "0.004588689899331366\n",
      "0.5318794332031467\n",
      "0.9084114922042317\n",
      "0.9948697294987975\n",
      "0.9994859561019842\n",
      "0.9992554118430096\n"
     ]
    },
    {
     "data": {
      "text/plain": [
       "[<matplotlib.lines.Line2D at 0x20ff2a80508>]"
      ]
     },
     "execution_count": 17,
     "metadata": {},
     "output_type": "execute_result"
    },
    {
     "data": {
      "image/png": "[encoded data removed]",
      "text/plain": [
       "<Figure size 432x288 with 1 Axes>"
      ]
     },
     "metadata": {
      "needs_background": "light"
     },
     "output_type": "display_data"
    }
   ],
   "source": [
    "max_degree = 6\n",
    "i=1\n",
    "r_squared = []\n",
    "while i<=max_degree:\n",
    "    p = PolynomialFeatures(degree = i,include_bias=False)\n",
    "    x_train22 = p.fit_transform(x_train2)\n",
    "    x_test22 = p.fit_transform(x_test2)\n",
    "    l = LinearRegression()\n",
    "    l.fit(x_train22,y_train2.reshape(-1,1))\n",
    "    y_pred1 = l.predict(x_test22)\n",
    "    r_squared.append(r2_score(y_test2,y_pred1))\n",
    "    print(r2_score(y_test2,y_pred1))\n",
    "    #plt.plot(x_test11,y_pred1)\n",
    "    i=i+1\n",
    "plt.plot(np.arange(1,max_degree+1,1),r_squared)"
   ]
  },
  {
   "cell_type": "code",
   "execution_count": 18,
   "metadata": {},
   "outputs": [
    {
     "data": {
      "text/plain": [
       "0.9969970545785591"
      ]
     },
     "execution_count": 18,
     "metadata": {},
     "output_type": "execute_result"
    }
   ],
   "source": [
    "ind_rec_model = LinearRegression()\n",
    "p = PolynomialFeatures(degree = 4,include_bias=False)\n",
    "x_input = p.fit_transform(x_norm)\n",
    "ind_rec_model.fit(x_input,y_rec)\n",
    "ind_rec_model.score(x_input,y_rec)"
   ]
  },
  {
   "cell_type": "code",
   "execution_count": 19,
   "metadata": {},
   "outputs": [
    {
     "data": {
      "image/png": "[encoded data removed]",
      "text/plain": [
       "<Figure size 432x288 with 1 Axes>"
      ]
     },
     "metadata": {
      "needs_background": "light"
     },
     "output_type": "display_data"
    }
   ],
   "source": [
    "y_pred = ind_rec_model.predict(x_input)\n",
    "plt.plot(x_norm,y_rec,color='b')\n",
    "plt.plot(x_norm,y_pred,'--',color='r')\n",
    "plt.legend(['Actual values','Model Predictions'])\n",
    "plt.grid(True)"
   ]
  },
  {
   "cell_type": "markdown",
   "metadata": {},
   "source": [
    "# Deaths"
   ]
  },
  {
   "cell_type": "code",
   "execution_count": 20,
   "metadata": {},
   "outputs": [],
   "source": [
    "death_data = ind_data[['Date','Deaths']]\n",
    "x_death = death_data['Date'].values\n",
    "y_death = death_data['Deaths'].values\n",
    "scale = StandardScaler()\n",
    "x_norm = scale.fit_transform(x_death.reshape(-1,1))\n",
    "x_train3,x_test3,y_train3,y_test3 = train_test_split(x_norm.reshape(-1,1),y_death,test_size=0.2)"
   ]
  },
  {
   "cell_type": "code",
   "execution_count": 21,
   "metadata": {},
   "outputs": [
    {
     "name": "stdout",
     "output_type": "stream",
     "text": [
      "0.6328545221369386\n",
      "0.9226665491396487\n",
      "0.9928894955286587\n",
      "0.9985558049619259\n",
      "0.9985812361135515\n",
      "0.9987029861034542\n"
     ]
    },
    {
     "data": {
      "text/plain": [
       "[<matplotlib.lines.Line2D at 0x20ff2b10908>]"
      ]
     },
     "execution_count": 21,
     "metadata": {},
     "output_type": "execute_result"
    },
    {
     "data": {
      "image/png": "[encoded data removed]",
      "text/plain": [
       "<Figure size 432x288 with 1 Axes>"
      ]
     },
     "metadata": {
      "needs_background": "light"
     },
     "output_type": "display_data"
    }
   ],
   "source": [
    "max_degree = 6\n",
    "i=1\n",
    "r_squared = []\n",
    "while i<=max_degree:\n",
    "    p = PolynomialFeatures(degree = i,include_bias=False)\n",
    "    x_train33 = p.fit_transform(x_train3)\n",
    "    x_test33 = p.fit_transform(x_test3)\n",
    "    l = LinearRegression()\n",
    "    l.fit(x_train33,y_train3.reshape(-1,1))\n",
    "    y_pred1 = l.predict(x_test33)\n",
    "    r_squared.append(r2_score(y_test3,y_pred1))\n",
    "    print(r2_score(y_test3,y_pred1))\n",
    "    #plt.plot(x_test11,y_pred1)\n",
    "    i=i+1\n",
    "plt.plot(np.arange(1,max_degree+1,1),r_squared)"
   ]
  },
  {
   "cell_type": "code",
   "execution_count": 22,
   "metadata": {},
   "outputs": [
    {
     "data": {
      "text/plain": [
       "0.9935783512944971"
      ]
     },
     "execution_count": 22,
     "metadata": {},
     "output_type": "execute_result"
    }
   ],
   "source": [
    "ind_death_model = LinearRegression()\n",
    "p = PolynomialFeatures(degree = 3,include_bias=False)\n",
    "x_input = p.fit_transform(x_norm)\n",
    "ind_death_model.fit(x_input,y_death)\n",
    "ind_death_model.score(x_input,y_death)"
   ]
  },
  {
   "cell_type": "code",
   "execution_count": 23,
   "metadata": {},
   "outputs": [
    {
     "data": {
      "image/png": "[encoded data removed]",
      "text/plain": [
       "<Figure size 432x288 with 1 Axes>"
      ]
     },
     "metadata": {
      "needs_background": "light"
     },
     "output_type": "display_data"
    }
   ],
   "source": [
    "y_pred = ind_death_model.predict(x_input)\n",
    "plt.plot(x_norm,y_death,color='r')\n",
    "plt.plot(x_norm,y_pred,'--',color='k')\n",
    "plt.legend(['Actual values','Model Predictions'])\n",
    "plt.grid(True)"
   ]
  }
 ],
 "metadata": {
  "kernelspec": {
   "display_name": "Python 3",
   "language": "python",
   "name": "python3"
  },
  "language_info": {
   "codemirror_mode": {
    "name": "ipython",
    "version": 3
   },
   "file_extension": ".py",
   "mimetype": "text/x-python",
   "name": "python",
   "nbconvert_exporter": "python",
   "pygments_lexer": "ipython3",
   "version": "3.7.4"
  }
 },
 "nbformat": 4,
 "nbformat_minor": 2
}
